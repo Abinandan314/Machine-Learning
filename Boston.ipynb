{
 "cells": [
  {
   "cell_type": "code",
   "execution_count": 2,
   "id": "b32fd1c8",
   "metadata": {},
   "outputs": [],
   "source": [
    "import numpy as np\n",
    "import pandas as pd\n",
    "from sklearn.datasets import load_boston"
   ]
  },
  {
   "cell_type": "code",
   "execution_count": 3,
   "id": "780219fa",
   "metadata": {},
   "outputs": [],
   "source": [
    "bos = load_boston()"
   ]
  },
  {
   "cell_type": "code",
   "execution_count": 9,
   "id": "afb31316",
   "metadata": {},
   "outputs": [
    {
     "data": {
      "text/plain": [
       "dict_keys(['data', 'target', 'feature_names', 'DESCR', 'filename'])"
      ]
     },
     "execution_count": 9,
     "metadata": {},
     "output_type": "execute_result"
    }
   ],
   "source": [
    "bos.feature_names\n",
    "bos.keys()"
   ]
  },
  {
   "cell_type": "code",
   "execution_count": 75,
   "id": "545785ca",
   "metadata": {},
   "outputs": [],
   "source": [
    "bosf = pd.DataFrame(bos.data)"
   ]
  },
  {
   "cell_type": "code",
   "execution_count": 20,
   "id": "5cde5ee0",
   "metadata": {},
   "outputs": [
    {
     "data": {
      "text/plain": [
       "array(['CRIM', 'ZN', 'INDUS', 'CHAS', 'NOX', 'RM', 'AGE', 'DIS', 'RAD',\n",
       "       'TAX', 'PTRATIO', 'B', 'LSTAT'], dtype='<U7')"
      ]
     },
     "execution_count": 20,
     "metadata": {},
     "output_type": "execute_result"
    }
   ],
   "source": [
    "\n",
    "bos.feature_names"
   ]
  },
  {
   "cell_type": "code",
   "execution_count": 76,
   "id": "3f7c05b3",
   "metadata": {},
   "outputs": [],
   "source": [
    "bosf.columns = bos.feature_names\n",
    "bosf['ANS'] = bos.target"
   ]
  },
  {
   "cell_type": "code",
   "execution_count": 79,
   "id": "1931560e",
   "metadata": {},
   "outputs": [],
   "source": [
    "X = bosf.iloc[:,:13]"
   ]
  },
  {
   "cell_type": "code",
   "execution_count": 81,
   "id": "21ca693c",
   "metadata": {},
   "outputs": [],
   "source": [
    "Y = bosf.iloc[:,-1]"
   ]
  },
  {
   "cell_type": "code",
   "execution_count": 44,
   "id": "0d978c4d",
   "metadata": {},
   "outputs": [],
   "source": []
  },
  {
   "cell_type": "code",
   "execution_count": 82,
   "id": "bfe788f3",
   "metadata": {},
   "outputs": [
    {
     "data": {
      "text/plain": [
       "0      24.0\n",
       "1      21.6\n",
       "2      34.7\n",
       "3      33.4\n",
       "4      36.2\n",
       "       ... \n",
       "501    22.4\n",
       "502    20.6\n",
       "503    23.9\n",
       "504    22.0\n",
       "505    11.9\n",
       "Name: ANS, Length: 506, dtype: float64"
      ]
     },
     "execution_count": 82,
     "metadata": {},
     "output_type": "execute_result"
    }
   ],
   "source": [
    "Y"
   ]
  },
  {
   "cell_type": "code",
   "execution_count": 46,
   "id": "70bb942c",
   "metadata": {},
   "outputs": [],
   "source": [
    "from sklearn.model_selection import train_test_split"
   ]
  },
  {
   "cell_type": "code",
   "execution_count": 83,
   "id": "5758b727",
   "metadata": {},
   "outputs": [],
   "source": [
    "X_train,X_test,Y_train,Y_test = train_test_split(X,Y,test_size=0.2)"
   ]
  },
  {
   "cell_type": "code",
   "execution_count": 84,
   "id": "dc141b18",
   "metadata": {},
   "outputs": [],
   "source": [
    "from sklearn.linear_model import LinearRegression"
   ]
  },
  {
   "cell_type": "code",
   "execution_count": 85,
   "id": "ec16d08f",
   "metadata": {},
   "outputs": [],
   "source": [
    "model = LinearRegression().fit(X_train,Y_train)"
   ]
  },
  {
   "cell_type": "code",
   "execution_count": 86,
   "id": "70f6500c",
   "metadata": {},
   "outputs": [],
   "source": [
    "from sklearn.metrics import accuracy_score"
   ]
  },
  {
   "cell_type": "code",
   "execution_count": 93,
   "id": "872020e4",
   "metadata": {},
   "outputs": [],
   "source": [
    "y_pred = model.predict(X_test)"
   ]
  },
  {
   "cell_type": "code",
   "execution_count": 94,
   "id": "7701593b",
   "metadata": {},
   "outputs": [
    {
     "data": {
      "text/plain": [
       "array([ 2.79657981, 32.82264141, 34.71158396, 30.03620868, 30.41897636,\n",
       "       33.05716436, 21.61383797, 20.04694231, 23.30664128, 21.52928528,\n",
       "       29.04636433, 19.86314299, 12.85694884, 15.59000257, 25.05035164,\n",
       "       21.64018641, 28.48426976, 40.77546299, 17.35350008, 33.18474742,\n",
       "       12.32100385, 32.54294066, 17.27060952, 17.70941043, 34.80695841,\n",
       "       18.03724749, 25.44004089, 14.72973683, 41.39833493, 19.38064764,\n",
       "       -4.47860724, 24.2075167 , 12.82629028, 27.55953893, 19.28682167,\n",
       "       23.46457529, 19.16758904, 19.87951698, 14.89995083, 21.40704998,\n",
       "       15.05641158, 19.14718584, 30.74544088, 35.37448141, 19.79870664,\n",
       "       16.29076658, 15.53128971, 19.25749226,  9.23864543, 22.09764611,\n",
       "       16.09520019, 23.02086586, 12.74593949, 25.01854366,  7.12122854,\n",
       "       19.22813104, 24.7715418 , 23.76616118, 21.15949241, 14.45781464,\n",
       "       27.56235298, 19.46803291, 23.76394765, 13.76066862, 18.15746498,\n",
       "       17.45649305, 37.52920656, 30.96739115, 19.24911442, 26.87462658,\n",
       "       14.38769631, 21.08735681, 22.50505479, 22.07758152, 21.99229885,\n",
       "       16.06073174, 22.35125113, 22.51940317, 12.65477474, 19.24516878,\n",
       "       15.10926381, 28.56839311, 30.90877378, 14.37699464, 14.22605779,\n",
       "       19.48005819, 18.24236496, 35.00436877, 12.29342438, 20.77756394,\n",
       "       31.25807912, 33.4835244 ,  6.23951096, 20.6088955 ,  9.49591301,\n",
       "       24.81411524, 28.66265158, 15.68298411, 32.72062761, 31.9764727 ,\n",
       "       23.08483061, 29.1435071 ])"
      ]
     },
     "execution_count": 94,
     "metadata": {},
     "output_type": "execute_result"
    }
   ],
   "source": [
    "y_pred\n"
   ]
  },
  {
   "cell_type": "code",
   "execution_count": 89,
   "id": "a50de761",
   "metadata": {},
   "outputs": [
    {
     "data": {
      "text/plain": [
       "0.7408218133889029"
      ]
     },
     "execution_count": 89,
     "metadata": {},
     "output_type": "execute_result"
    }
   ],
   "source": [
    "\n",
    "model.score(X_train,Y_train)"
   ]
  },
  {
   "cell_type": "code",
   "execution_count": 90,
   "id": "3cde2100",
   "metadata": {},
   "outputs": [
    {
     "data": {
      "text/plain": [
       "0.7292278033574116"
      ]
     },
     "execution_count": 90,
     "metadata": {},
     "output_type": "execute_result"
    }
   ],
   "source": [
    "model.score(X_test,Y_test)"
   ]
  },
  {
   "cell_type": "code",
   "execution_count": 92,
   "id": "a39d4484",
   "metadata": {},
   "outputs": [
    {
     "data": {
      "text/plain": [
       "array([ 2.79657981, 32.82264141, 34.71158396, 30.03620868, 30.41897636,\n",
       "       33.05716436, 21.61383797, 20.04694231, 23.30664128, 21.52928528,\n",
       "       29.04636433, 19.86314299, 12.85694884, 15.59000257, 25.05035164,\n",
       "       21.64018641, 28.48426976, 40.77546299, 17.35350008, 33.18474742,\n",
       "       12.32100385, 32.54294066, 17.27060952, 17.70941043, 34.80695841,\n",
       "       18.03724749, 25.44004089, 14.72973683, 41.39833493, 19.38064764,\n",
       "       -4.47860724, 24.2075167 , 12.82629028, 27.55953893, 19.28682167,\n",
       "       23.46457529, 19.16758904, 19.87951698, 14.89995083, 21.40704998,\n",
       "       15.05641158, 19.14718584, 30.74544088, 35.37448141, 19.79870664,\n",
       "       16.29076658, 15.53128971, 19.25749226,  9.23864543, 22.09764611,\n",
       "       16.09520019, 23.02086586, 12.74593949, 25.01854366,  7.12122854,\n",
       "       19.22813104, 24.7715418 , 23.76616118, 21.15949241, 14.45781464,\n",
       "       27.56235298, 19.46803291, 23.76394765, 13.76066862, 18.15746498,\n",
       "       17.45649305, 37.52920656, 30.96739115, 19.24911442, 26.87462658,\n",
       "       14.38769631, 21.08735681, 22.50505479, 22.07758152, 21.99229885,\n",
       "       16.06073174, 22.35125113, 22.51940317, 12.65477474, 19.24516878,\n",
       "       15.10926381, 28.56839311, 30.90877378, 14.37699464, 14.22605779,\n",
       "       19.48005819, 18.24236496, 35.00436877, 12.29342438, 20.77756394,\n",
       "       31.25807912, 33.4835244 ,  6.23951096, 20.6088955 ,  9.49591301,\n",
       "       24.81411524, 28.66265158, 15.68298411, 32.72062761, 31.9764727 ,\n",
       "       23.08483061, 29.1435071 ])"
      ]
     },
     "execution_count": 92,
     "metadata": {},
     "output_type": "execute_result"
    }
   ],
   "source": [
    "y_pred"
   ]
  },
  {
   "cell_type": "code",
   "execution_count": 97,
   "id": "f4dbd90f",
   "metadata": {},
   "outputs": [
    {
     "data": {
      "text/plain": [
       "384     8.8\n",
       "57     31.6\n",
       "189    34.9\n",
       "0      24.0\n",
       "175    29.4\n",
       "       ... \n",
       "454    14.9\n",
       "179    37.2\n",
       "234    29.0\n",
       "154    17.0\n",
       "158    24.3\n",
       "Name: ANS, Length: 102, dtype: float64"
      ]
     },
     "execution_count": 97,
     "metadata": {},
     "output_type": "execute_result"
    }
   ],
   "source": [
    "Y_test"
   ]
  },
  {
   "cell_type": "code",
   "execution_count": 96,
   "id": "9b5c8f13",
   "metadata": {},
   "outputs": [
    {
     "ename": "TypeError",
     "evalue": "predict() takes 2 positional arguments but 13 were given",
     "output_type": "error",
     "traceback": [
      "\u001b[1;31m---------------------------------------------------------------------------\u001b[0m",
      "\u001b[1;31mTypeError\u001b[0m                                 Traceback (most recent call last)",
      "\u001b[1;32m<ipython-input-96-b45b37d5820f>\u001b[0m in \u001b[0;36m<module>\u001b[1;34m\u001b[0m\n\u001b[1;32m----> 1\u001b[1;33m \u001b[0mmodel\u001b[0m\u001b[1;33m.\u001b[0m\u001b[0mpredict\u001b[0m\u001b[1;33m(\u001b[0m\u001b[1;36m18.0\u001b[0m\u001b[1;33m,\u001b[0m\u001b[1;36m2.31\u001b[0m\u001b[1;33m,\u001b[0m\u001b[1;36m0.0\u001b[0m\u001b[1;33m,\u001b[0m\u001b[1;36m0.538\u001b[0m\u001b[1;33m,\u001b[0m\u001b[1;36m6.575\u001b[0m\u001b[1;33m,\u001b[0m\u001b[1;36m65.2\u001b[0m\u001b[1;33m,\u001b[0m\u001b[1;36m4.0900\u001b[0m\u001b[1;33m,\u001b[0m\u001b[1;36m1.0\u001b[0m\u001b[1;33m,\u001b[0m\u001b[1;36m296.0\u001b[0m\u001b[1;33m,\u001b[0m\u001b[1;36m15.3\u001b[0m\u001b[1;33m,\u001b[0m\u001b[1;36m396.9\u001b[0m\u001b[1;33m,\u001b[0m\u001b[1;36m4.98\u001b[0m\u001b[1;33m)\u001b[0m\u001b[1;33m\u001b[0m\u001b[1;33m\u001b[0m\u001b[0m\n\u001b[0m",
      "\u001b[1;31mTypeError\u001b[0m: predict() takes 2 positional arguments but 13 were given"
     ]
    }
   ],
   "source": [
    "model.predict(18.0,2.31,0.0,0.538,6.575,65.2,4.0900,1.0,296.0,15.3,396.9,4.98)"
   ]
  },
  {
   "cell_type": "code",
   "execution_count": null,
   "id": "d73af3e1",
   "metadata": {},
   "outputs": [],
   "source": []
  }
 ],
 "metadata": {
  "kernelspec": {
   "display_name": "Python 3",
   "language": "python",
   "name": "python3"
  },
  "language_info": {
   "codemirror_mode": {
    "name": "ipython",
    "version": 3
   },
   "file_extension": ".py",
   "mimetype": "text/x-python",
   "name": "python",
   "nbconvert_exporter": "python",
   "pygments_lexer": "ipython3",
   "version": "3.8.8"
  }
 },
 "nbformat": 4,
 "nbformat_minor": 5
}
