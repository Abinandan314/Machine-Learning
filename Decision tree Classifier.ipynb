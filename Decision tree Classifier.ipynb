{
 "cells": [
  {
   "cell_type": "code",
   "execution_count": 1,
   "id": "ce003456",
   "metadata": {},
   "outputs": [],
   "source": [
    "import pandas as pd\n",
    "import numpy as np\n",
    "from sklearn import tree\n",
    "from sklearn.model_selection import train_test_split\n",
    "from sklearn import metrics\n"
   ]
  },
  {
   "cell_type": "code",
   "execution_count": 2,
   "id": "e0f680fb",
   "metadata": {},
   "outputs": [],
   "source": [
    "pro = pd.read_csv('Product.csv')"
   ]
  },
  {
   "cell_type": "code",
   "execution_count": 5,
   "id": "6789bc85",
   "metadata": {},
   "outputs": [],
   "source": [
    "df = pd.DataFrame(pro)"
   ]
  },
  {
   "cell_type": "code",
   "execution_count": 7,
   "id": "994f3e39",
   "metadata": {},
   "outputs": [],
   "source": [
    "X = df.iloc[:,[2,3]].values\n",
    "y = df.iloc[:,-1].values"
   ]
  },
  {
   "cell_type": "code",
   "execution_count": 16,
   "id": "78d9f5f1",
   "metadata": {},
   "outputs": [],
   "source": [
    "X_train,X_test,y_train,y_test = train_test_split(X,y)\n",
    "from sklearn.preprocessing import MinMaxScaler\n",
    "scaler = MinMaxScaler()\n",
    "X_train = scaler.fit_transform(X_train)\n",
    "X_test = scaler.transform(X_test)\n"
   ]
  },
  {
   "cell_type": "code",
   "execution_count": 19,
   "id": "6351499a",
   "metadata": {},
   "outputs": [
    {
     "data": {
      "text/plain": [
       "[Text(167.40000000000003, 201.90857142857143, 'X[0] <= 0.56\\ngini = 0.459\\nsamples = 300\\nvalue = [193, 107]'),\n",
       " Text(66.96000000000001, 170.84571428571428, 'X[1] <= 0.559\\ngini = 0.262\\nsamples = 206\\nvalue = [174, 32]'),\n",
       " Text(33.480000000000004, 139.78285714285715, 'gini = 0.056\\nsamples = 172\\nvalue = [167, 5]'),\n",
       " Text(100.44000000000001, 139.78285714285715, 'X[1] <= 0.77\\ngini = 0.327\\nsamples = 34\\nvalue = [7, 27]'),\n",
       " Text(66.96000000000001, 108.72, 'X[1] <= 0.685\\ngini = 0.465\\nsamples = 19\\nvalue = [7, 12]'),\n",
       " Text(33.480000000000004, 77.65714285714284, 'gini = 0.0\\nsamples = 9\\nvalue = [0, 9]'),\n",
       " Text(100.44000000000001, 77.65714285714284, 'X[1] <= 0.759\\ngini = 0.42\\nsamples = 10\\nvalue = [7, 3]'),\n",
       " Text(66.96000000000001, 46.59428571428572, 'gini = 0.245\\nsamples = 7\\nvalue = [6, 1]'),\n",
       " Text(133.92000000000002, 46.59428571428572, 'X[0] <= 0.25\\ngini = 0.444\\nsamples = 3\\nvalue = [1, 2]'),\n",
       " Text(100.44000000000001, 15.531428571428563, 'gini = 0.0\\nsamples = 1\\nvalue = [1, 0]'),\n",
       " Text(167.40000000000003, 15.531428571428563, 'gini = 0.0\\nsamples = 2\\nvalue = [0, 2]'),\n",
       " Text(133.92000000000002, 108.72, 'gini = 0.0\\nsamples = 15\\nvalue = [0, 15]'),\n",
       " Text(267.84000000000003, 170.84571428571428, 'X[0] <= 0.679\\ngini = 0.323\\nsamples = 94\\nvalue = [19, 75]'),\n",
       " Text(234.36, 139.78285714285715, 'X[1] <= 0.526\\ngini = 0.485\\nsamples = 29\\nvalue = [12, 17]'),\n",
       " Text(200.88000000000002, 108.72, 'X[1] <= 0.152\\ngini = 0.495\\nsamples = 20\\nvalue = [11, 9]'),\n",
       " Text(167.40000000000003, 77.65714285714284, 'gini = 0.0\\nsamples = 5\\nvalue = [0, 5]'),\n",
       " Text(234.36, 77.65714285714284, 'gini = 0.391\\nsamples = 15\\nvalue = [11, 4]'),\n",
       " Text(267.84000000000003, 108.72, 'gini = 0.198\\nsamples = 9\\nvalue = [1, 8]'),\n",
       " Text(301.32000000000005, 139.78285714285715, 'gini = 0.192\\nsamples = 65\\nvalue = [7, 58]')]"
      ]
     },
     "execution_count": 19,
     "metadata": {},
     "output_type": "execute_result"
    },
    {
     "data": {
      "image/png": "[encoded data removed]",
      "text/plain": [
       "<Figure size 432x288 with 1 Axes>"
      ]
     },
     "metadata": {
      "needs_background": "light"
     },
     "output_type": "display_data"
    }
   ],
   "source": [
    "model = tree.DecisionTreeClassifier()\n",
    "tree.plot_tree(model.fit(X_train,y_train))"
   ]
  },
  {
   "cell_type": "code",
   "execution_count": 20,
   "id": "bb8c8a92",
   "metadata": {},
   "outputs": [],
   "source": [
    "y_pred = model.predict(X_test)"
   ]
  },
  {
   "cell_type": "code",
   "execution_count": 21,
   "id": "fa3447d8",
   "metadata": {},
   "outputs": [
    {
     "data": {
      "text/plain": [
       "array([0, 1, 0, 0, 1, 1, 0, 0, 0, 0, 0, 0, 1, 0, 1, 0, 0, 0, 0, 0, 0, 1,\n",
       "       0, 0, 0, 1, 0, 1, 1, 0, 0, 1, 1, 1, 0, 0, 0, 0, 1, 1, 1, 1, 1, 0,\n",
       "       0, 0, 1, 0, 1, 0, 1, 0, 0, 0, 0, 0, 1, 0, 0, 0, 0, 1, 1, 1, 0, 0,\n",
       "       0, 1, 0, 1, 0, 1, 1, 1, 0, 0, 0, 1, 0, 0, 1, 0, 0, 0, 0, 1, 0, 0,\n",
       "       1, 0, 0, 0, 0, 1, 0, 1, 0, 1, 1, 0], dtype=int64)"
      ]
     },
     "execution_count": 21,
     "metadata": {},
     "output_type": "execute_result"
    }
   ],
   "source": [
    "y_pred"
   ]
  },
  {
   "cell_type": "code",
   "execution_count": 22,
   "id": "496f200f",
   "metadata": {},
   "outputs": [
    {
     "data": {
      "text/plain": [
       "array([0, 1, 0, 0, 1, 1, 1, 0, 0, 0, 0, 0, 1, 0, 1, 0, 0, 0, 0, 0, 0, 1,\n",
       "       0, 1, 0, 1, 0, 1, 1, 0, 0, 1, 1, 1, 0, 0, 0, 0, 1, 1, 1, 1, 1, 0,\n",
       "       0, 0, 0, 0, 1, 0, 1, 0, 0, 0, 0, 0, 1, 0, 0, 1, 0, 1, 1, 1, 0, 0,\n",
       "       0, 1, 0, 1, 0, 0, 1, 0, 0, 0, 0, 1, 0, 0, 0, 0, 0, 0, 0, 1, 0, 0,\n",
       "       1, 0, 0, 0, 0, 0, 0, 1, 0, 1, 1, 1], dtype=int64)"
      ]
     },
     "execution_count": 22,
     "metadata": {},
     "output_type": "execute_result"
    }
   ],
   "source": [
    "y_test"
   ]
  },
  {
   "cell_type": "code",
   "execution_count": 34,
   "id": "6e327e81",
   "metadata": {},
   "outputs": [
    {
     "name": "stdout",
     "output_type": "stream",
     "text": [
      "0.91\n"
     ]
    }
   ],
   "source": [
    "print(metrics.accuracy_score(y_pred,y_test))\n"
   ]
  },
  {
   "cell_type": "code",
   "execution_count": null,
   "id": "1f6c8099",
   "metadata": {},
   "outputs": [],
   "source": []
  }
 ],
 "metadata": {
  "kernelspec": {
   "display_name": "Python 3",
   "language": "python",
   "name": "python3"
  },
  "language_info": {
   "codemirror_mode": {
    "name": "ipython",
    "version": 3
   },
   "file_extension": ".py",
   "mimetype": "text/x-python",
   "name": "python",
   "nbconvert_exporter": "python",
   "pygments_lexer": "ipython3",
   "version": "3.8.8"
  }
 },
 "nbformat": 4,
 "nbformat_minor": 5
}
